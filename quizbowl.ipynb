{
 "cells": [
  {
   "cell_type": "code",
   "execution_count": 3,
   "metadata": {},
   "outputs": [],
   "source": [
    "#!pip install gensim"
   ]
  },
  {
   "cell_type": "code",
   "execution_count": 4,
   "metadata": {},
   "outputs": [],
   "source": [
    "# torch\n",
    "import torch\n",
    "import torch.nn as nn\n",
    "import torch.nn.utils.rnn as rnn_utils\n",
    "from torch.nn.utils.rnn import pack_padded_sequence as pack\n",
    "from torch.nn.utils.rnn import pad_packed_sequence as pad\n",
    "\n",
    "# gensim\n",
    "from gensim.models import Word2Vec\n",
    "\n",
    "# scipy\n",
    "from sklearn.decomposition import PCA as PCA\n",
    "\n",
    "# numpy\n",
    "import numpy as np\n",
    "\n",
    "# matplotlib\n",
    "import matplotlib.pyplot as plt\n",
    "\n",
    "# python\n",
    "from collections import defaultdict\n",
    "import os\n",
    "import json\n",
    "import io\n",
    "import time\n",
    "import random\n",
    "import string\n",
    "import math\n",
    "import pickle\n",
    "\n",
    "# misc\n",
    "from tqdm import tqdm_notebook as tqdm"
   ]
  },
  {
   "cell_type": "code",
   "execution_count": 5,
   "metadata": {},
   "outputs": [
    {
     "name": "stdout",
     "output_type": "stream",
     "text": [
      "[nltk_data] Downloading package punkt to /root/nltk_data...\n",
      "[nltk_data]   Unzipping tokenizers/punkt.zip.\n",
      "Loaded 400000 words\n"
     ]
    }
   ],
   "source": [
    "# our imports\n",
    "import corpus as corpus_p\n",
    "import utilities"
   ]
  },
  {
   "cell_type": "code",
   "execution_count": 6,
   "metadata": {},
   "outputs": [],
   "source": [
    "BATCH_SIZE = 512"
   ]
  },
  {
   "cell_type": "code",
   "execution_count": 8,
   "metadata": {},
   "outputs": [],
   "source": [
    "ttrack = pickle.load(open('bin/gru-rand-aug-last30/train-tracker', 'rb'))\n",
    "vtrack = pickle.load(open('bin/gru-rand-aug-last30/val-tracker', 'rb'))"
   ]
  },
  {
   "cell_type": "code",
   "execution_count": 9,
   "metadata": {},
   "outputs": [],
   "source": [
    "best_idx = vtrack['acc'].index(max(vtrack['acc']))"
   ]
  },
  {
   "cell_type": "code",
   "execution_count": 11,
   "metadata": {},
   "outputs": [
    {
     "data": {
      "text/plain": [
       "0.7316362778219396"
      ]
     },
     "execution_count": 11,
     "metadata": {},
     "output_type": "execute_result"
    }
   ],
   "source": [
    "ttrack['acc'][best_idx]"
   ]
  },
  {
   "cell_type": "code",
   "execution_count": 13,
   "metadata": {},
   "outputs": [
    {
     "data": {
      "text/plain": [
       "0.572265625"
      ]
     },
     "execution_count": 13,
     "metadata": {},
     "output_type": "execute_result"
    }
   ],
   "source": [
    "vtrack['acc'][best_idx]"
   ]
  },
  {
   "cell_type": "markdown",
   "metadata": {},
   "source": [
    "# Hyperparameters"
   ]
  },
  {
   "cell_type": "code",
   "execution_count": 14,
   "metadata": {
    "collapsed": true
   },
   "outputs": [],
   "source": [
    "device = torch.device(\"cuda:0\" if torch.cuda.is_available() else \"cpu\")"
   ]
  },
  {
   "cell_type": "code",
   "execution_count": 15,
   "metadata": {
    "collapsed": true
   },
   "outputs": [],
   "source": [
    "class Args: pass"
   ]
  },
  {
   "cell_type": "code",
   "execution_count": 16,
   "metadata": {
    "collapsed": true
   },
   "outputs": [],
   "source": [
    "args = Args()\n",
    "\n",
    "args.load_checkpoint = None\n",
    "args.num_samples = 10\n",
    "\n",
    "args.optimizer = 'adam'\n",
    "args.use_scheduler = True\n",
    "\n",
    "args.data_dir = 'data'\n",
    "args.corpus = 'penn'\n",
    "args.max_sequence_length = 25\n",
    "args.embedding_size = 300\n",
    "args.rnn_type = 'gru'\n",
    "args.hidden_size = 300\n",
    "args.word_dropout = 0.70\n",
    "args.embedding_dropout_rate = 0.0\n",
    "args.teacher_forcing_rate = 1.0 # eventually add decay\n",
    "args.latent_size = 64\n",
    "args.num_layers = 2\n",
    "args.bidirectional = True\n",
    "args.create_data = True\n",
    "args.min_occ = 1\n",
    "args.train = True\n",
    "args.test = True\n",
    "args.epochs = 10\n",
    "args.batch_size = 128\n",
    "args.learning_rate = 0.002\n",
    "args.anneal_function = 'logistic'\n",
    "args.k = 0.0025\n",
    "args.x0 = 2500\n",
    "args.print_every = 25\n",
    "args.logdir = 'logs'\n",
    "args.save_model_path = 'bin'\n",
    "\n",
    "assert args.rnn_type in ['rnn', 'gru']\n",
    "assert 0 <= args.word_dropout <= 1\n",
    "assert args.anneal_function in ['logistic', 'linear']\n",
    "assert args.optimizer in ['adam', 'rmsprop']"
   ]
  },
  {
   "cell_type": "markdown",
   "metadata": {},
   "source": [
    "# The Model"
   ]
  },
  {
   "cell_type": "code",
   "execution_count": 17,
   "metadata": {
    "collapsed": true
   },
   "outputs": [],
   "source": [
    "class QuestionAnswerer(nn.Module):\n",
    "    def __init__(self, pad_idx, unk_idx, vocab_size, code_size, num_cats,\n",
    "                 max_sequence_length, encoder_hidden_size, depth, answer_size,\n",
    "                 embedding_size, pretrained_embeddings=None, num_layers=2, rnn_type='gru',\n",
    "                 dropout_rate=0.3, word_dropout_rate=0.0, bi_mode='cat', attn_cat_hidden=False,\n",
    "                 bidirectional=True, use_cats=False, use_attn=False, attn_length=10, **kwargs):\n",
    "        super().__init__()\n",
    "        \n",
    "        # corpus/vocab\n",
    "        self.pad_idx = pad_idx\n",
    "        self.unk_idx = unk_idx\n",
    "        self.max_sequence_length = max_sequence_length\n",
    "        \n",
    "        # network dimensions\n",
    "        self.num_cats = num_cats\n",
    "        self.code_size = code_size\n",
    "        self.encoder_hidden_size = encoder_hidden_size\n",
    "        self.embedding_size = embedding_size\n",
    "        self.answer_size = answer_size\n",
    "        self.depth = depth\n",
    "        \n",
    "        # architectural parameters\n",
    "        self.dropout_rate = dropout_rate\n",
    "        self.word_dropout_rate = word_dropout_rate\n",
    "        self.bidirectional = bidirectional\n",
    "        self.bi_mode = bi_mode\n",
    "        self.use_cats = use_cats\n",
    "        self.use_attn = use_attn\n",
    "        self.attn_cat_hidden = attn_cat_hidden\n",
    "        self.attn_length = attn_length\n",
    "        \n",
    "        if self.bi_mode == 'cat':\n",
    "            self.hidden_factor = 2 if self.bidirectional else 1\n",
    "        else:\n",
    "            self.hidden_factor = 1\n",
    "        \n",
    "        # embedding\n",
    "        self.embedding = nn.Embedding(vocab_size, embedding_size, padding_idx=0)\n",
    "        if pretrained_embeddings:\n",
    "            pretrained_embeddings = Word2Vec.load('model_ques_wise_100.bin')\n",
    "            self.embedding.weight = nn.Parameter(pretrained_embeddings)\n",
    "        if self.use_cats:\n",
    "            self.cat_embedding = nn.Embedding(num_cats, code_size, padding_idx=0)\n",
    "        \n",
    "        # layers\n",
    "        self.rnn_type = rnn_type\n",
    "        if rnn_type.lower() == 'gru':\n",
    "            self.encoder_rnn = nn.GRU(embedding_size, encoder_hidden_size, num_layers=1,\n",
    "                                      bidirectional=True, batch_first=True)\n",
    "        elif rnn_type.lower() == 'lstm':\n",
    "            self.encoder_rnn = nn.LSTM(embedding_size, encoder_hidden_size, num_layers=1,\n",
    "                                       bidirectional=True, batch_first=True)\n",
    "        else:\n",
    "            raise Error(\"Invalid RNN type '{}'\".format(rnn_type))\n",
    "        self.enc_hidden_norm = nn.BatchNorm1d(self.hidden_factor * self.encoder_hidden_size)\n",
    "        \n",
    "        # output layer\n",
    "        hidden_size = self.hidden_factor * self.encoder_hidden_size\n",
    "        \n",
    "        if self.use_attn:\n",
    "            self.hidden2attention = nn.Linear(hidden_size, self.attn_length)\n",
    "        \n",
    "        if self.use_cats and self.use_attn and self.attn_cat_hidden:\n",
    "            self.hidden2answer = nn.Linear(hidden_size * 2 + self.code_size, self.answer_size)\n",
    "        elif self.use_cats:\n",
    "            self.hidden2answer = nn.Linear(hidden_size + self.code_size, self.answer_size)\n",
    "        else:\n",
    "            self.hidden2answer = nn.Linear(hidden_size, self.answer_size)\n",
    "        \n",
    "    def word_dropout(self, input_sequence):\n",
    "        \"\"\"\n",
    "        Given a batch of input sequences (a batch of sequences of indices),\n",
    "        drops words out randomly, replacing them with <unk>, and re-embeds\n",
    "        the sequence.\n",
    "        \"\"\"\n",
    "        if self.word_dropout_rate > 0:\n",
    "            # get a probability 0 < p < 1 for each input token:\n",
    "            prob = torch.rand(input_sequence.size())\n",
    "            # dropout the unlucky input tokens, replacing them with <UNK>\n",
    "            input_sequence[prob < self.word_dropout_rate] = self.unk_idx\n",
    "            \n",
    "            return input_sequence\n",
    "        else:\n",
    "            return input_sequence\n",
    "        \n",
    "    def forward(self, questions, lens, cats, return_logits=False, training=True):\n",
    "        batch_size = len(questions)\n",
    "        \n",
    "        # embed the questions\n",
    "        if training:\n",
    "            questions = self.word_dropout(questions)\n",
    "        questions = self.embedding(questions)\n",
    "        if training:\n",
    "            questions = nn.functional.dropout(questions, p=self.dropout_rate)\n",
    "        \n",
    "        # sort tensors by length\n",
    "        sorted_lens, perm_idx = lens.sort(0, descending=True)   \n",
    "        \n",
    "        # pack the input word-dropped-out, embedded input sequence\n",
    "        questions = pack(questions[perm_idx], sorted_lens, batch_first=True)\n",
    "        \n",
    "        # encode the sequence\n",
    "        hidden = None\n",
    "        if self.rnn_type == 'gru':\n",
    "            outputs, hidden = self.encoder_rnn(questions)\n",
    "        elif self.rnn_type == 'lstm':\n",
    "            outputs, (hidden, _) = self.encoder_rnn(questions)\n",
    "        else:\n",
    "            raise Error(\"Invalid RNN type '{}'\".format(self.rnn_type))\n",
    "        \n",
    "        # combine the two directions' hidden state\n",
    "        if self.bi_mode == 'sum':\n",
    "            hidden = torch.sum(hidden, dim=0)\n",
    "            hidden = hidden.view(batch_size, -1)\n",
    "        elif self.bi_mode == 'cat':\n",
    "            hidden = torch.cat(\n",
    "                [hidden[0:hidden.size(0):2],\n",
    "                 hidden[1:hidden.size(0):2]],\n",
    "                2\n",
    "            )\n",
    "            hidden = hidden.view(batch_size, -1)\n",
    "        else:\n",
    "            raise Error(\"Invalid bidirectional mode '{}'\".format(self.bi_mode))\n",
    "        \n",
    "        # batch norm on hidden\n",
    "        hidden = self.enc_hidden_norm(hidden)\n",
    "        \n",
    "        # apply attention\n",
    "        if self.use_attn:\n",
    "            # unpack and pad the outputs\n",
    "            outputs = pad(outputs, batch_first=True, padding_value=0,\n",
    "                          total_length=self.max_sequence_length)[0]\n",
    "            outputs = outputs[:,:self.attn_length,:]\n",
    "        \n",
    "            attn_weights = nn.functional.softmax(self.hidden2attention(hidden), dim=-1)\n",
    "            attn_weights = attn_weights.unsqueeze(1)\n",
    "\n",
    "            attn_applied = torch.bmm(attn_weights, outputs)\n",
    "            attn_applied = attn_applied.squeeze()\n",
    "\n",
    "            outputs = attn_applied\n",
    "        else:\n",
    "            outputs = hidden\n",
    "        \n",
    "        # put the output sequences back in the original order\n",
    "        _, reversed_idx = torch.sort(perm_idx)\n",
    "        outputs = outputs[reversed_idx]\n",
    "    \n",
    "        answer_logits = None\n",
    "        if self.use_cats:\n",
    "            cats = self.cat_embedding(cats)\n",
    "            answer_logits = self.hidden2answer(torch.cat((outputs, cats), dim=-1))\n",
    "        else:\n",
    "            answer_logits = self.hidden2answer(outputs)\n",
    "        \n",
    "        if return_logits:\n",
    "            return answer_logits\n",
    "        else:\n",
    "            return nn.functional.log_softmax(answer_logits, dim=-1)"
   ]
  },
  {
   "cell_type": "code",
   "execution_count": 49,
   "metadata": {},
   "outputs": [
    {
     "name": "stdout",
     "output_type": "stream",
     "text": [
      "Train Preprocessing\n",
      "-------------------\n",
      "Reading in questions ...\n",
      "Processing questions ...\n",
      "Tokenizing each sentence part ...\n"
     ]
    },
    {
     "data": {
      "application/vnd.jupyter.widget-view+json": {
       "model_id": "5b9bc9ea4d06425a8ec26662ebb927e8",
       "version_major": 2,
       "version_minor": 0
      },
      "text/plain": [
       "HBox(children=(IntProgress(value=0, max=129250), HTML(value='')))"
      ]
     },
     "metadata": {},
     "output_type": "display_data"
    },
    {
     "name": "stdout",
     "output_type": "stream",
     "text": [
      "Cleaning up each sentence part ...\n"
     ]
    },
    {
     "data": {
      "application/vnd.jupyter.widget-view+json": {
       "model_id": "34c9f8d4bad04f19828f6e7d68333ea4",
       "version_major": 2,
       "version_minor": 0
      },
      "text/plain": [
       "HBox(children=(IntProgress(value=0, max=129250), HTML(value='')))"
      ]
     },
     "metadata": {},
     "output_type": "display_data"
    },
    {
     "name": "stdout",
     "output_type": "stream",
     "text": [
      "Stripping non-word characters ...\n"
     ]
    },
    {
     "data": {
      "application/vnd.jupyter.widget-view+json": {
       "model_id": "0ce46cd2301040d68713ccaf7312d4f9",
       "version_major": 2,
       "version_minor": 0
      },
      "text/plain": [
       "HBox(children=(IntProgress(value=0, max=129250), HTML(value='')))"
      ]
     },
     "metadata": {},
     "output_type": "display_data"
    },
    {
     "name": "stdout",
     "output_type": "stream",
     "text": [
      "Collecting lowercase wordset:\n"
     ]
    },
    {
     "data": {
      "application/vnd.jupyter.widget-view+json": {
       "model_id": "cb07fd114dc84fb387d30d12d704d401",
       "version_major": 2,
       "version_minor": 0
      },
      "text/plain": [
       "HBox(children=(IntProgress(value=0, max=131464), HTML(value='')))"
      ]
     },
     "metadata": {},
     "output_type": "display_data"
    },
    {
     "name": "stdout",
     "output_type": "stream",
     "text": [
      "Building word list (i2w) ...\n",
      "Building word2index dictionary (w2i) ...\n"
     ]
    },
    {
     "data": {
      "application/vnd.jupyter.widget-view+json": {
       "model_id": "ffb2fc3da49b44a98f08f929be3c935e",
       "version_major": 2,
       "version_minor": 0
      },
      "text/plain": [
       "HBox(children=(IntProgress(value=1, bar_style='info', max=1), HTML(value='')))"
      ]
     },
     "metadata": {},
     "output_type": "display_data"
    },
    {
     "data": {
      "application/vnd.jupyter.widget-view+json": {
       "model_id": "889b54fc7a8b4ef584ece458bbccdd55",
       "version_major": 2,
       "version_minor": 0
      },
      "text/plain": [
       "HBox(children=(IntProgress(value=0, max=129248), HTML(value='')))"
      ]
     },
     "metadata": {},
     "output_type": "display_data"
    },
    {
     "name": "stdout",
     "output_type": "stream",
     "text": [
      "Moving labels to torch ...\n",
      "Calculated maximum sequence length: 449\n",
      "Creating corpus object ...\n",
      "Num word tokens: 131464\n",
      "Num word types: 7596\n",
      "Num question categories: 0\n",
      "Num classes: 26456\n",
      "Num curricula: None\n",
      "Train size: 129248\n",
      "Dev size: 2216\n",
      "Test size: 0\n",
      "\n",
      "Finished!\n"
     ]
    }
   ],
   "source": [
    "corpus = corpus_p.create_corpus(data_dir='data', batch_size=BATCH_SIZE,\n",
    "                                augment_train=False, augment_mode='random',\n",
    "                                min_occurrences=None, curriculum_len=None,\n",
    "                                max_sequence_length=None)"
   ]
  },
  {
   "cell_type": "markdown",
   "metadata": {},
   "source": [
    "# Train"
   ]
  },
  {
   "cell_type": "code",
   "execution_count": 51,
   "metadata": {
    "collapsed": true
   },
   "outputs": [],
   "source": [
    "def train_classifier(args, model, corpus, model_name, model_args,\n",
    "                     save_model_path='bin', gpu=True):\n",
    "    if gpu:\n",
    "        model.to(device)\n",
    "    \n",
    "    print(model)\n",
    "\n",
    "    save_model_path = os.path.join(save_model_path, model_name)\n",
    "    if not os.path.exists(save_model_path):\n",
    "        os.makedirs(save_model_path)\n",
    "        \n",
    "    all_args = {**vars(args), **vars(model_args)}\n",
    "    pickle.dump(all_args, open(os.path.join(save_model_path, 'args'), 'wb'))\n",
    "\n",
    "    train_loader = corpus.train_loader\n",
    "    test_loader = corpus.dev_loader\n",
    "    \n",
    "    loss_fn = nn.NLLLoss()\n",
    "    \n",
    "    optimizer = None\n",
    "    lr_scheduler = None\n",
    "    if args.optimizer == 'adam':\n",
    "        optimizer = torch.optim.Adam(params=model.parameters(), lr=args.learning_rate)\n",
    "    elif args.optimizer == 'lbfgs':\n",
    "        optimizer = torch.optim.LBFGS(params=model.parameters(), history_size=10, max_iter=10)\n",
    "    elif args.optimizer == 'rmsprop':\n",
    "        optimizer = torch.optim.RMSprop(params=model.parameters(), lr=args.learning_rate)\n",
    "    else:\n",
    "        raise Error(\"Invalid optimizer '{}'\".format(args.optimizer))\n",
    "    \n",
    "    tracker = defaultdict(list)\n",
    "    val_tracker = defaultdict(list)\n",
    "    step = 0\n",
    "    \n",
    "    for epoch in range(args.epochs):\n",
    "        train_loss = 0.0\n",
    "        val_loss = 0.0\n",
    "\n",
    "        train_iter = 0.0\n",
    "        test_iter = 0.0\n",
    "        \n",
    "        num_right = 0.0\n",
    "        total = 0.0\n",
    "        val_num_right = 0.0\n",
    "        val_total = 0.0\n",
    "        \n",
    "        print_every_num_right = 0.0\n",
    "        \n",
    "        logger(\"Epoch {}\\n\".format(epoch))\n",
    "        model.train()\n",
    "        # model.cuda()\n",
    "        torch.cuda.empty_cache()\n",
    "        \n",
    "        for train_iter, batch in enumerate(tqdm(train_loader)):\n",
    "            # get the next batch\n",
    "            questions, lens, cats = batch[0]\n",
    "            lens = torch.tensor(lens)\n",
    "            labels = batch[1]\n",
    "            \n",
    "            # move to GPU (if necessary)\n",
    "            if gpu:\n",
    "                questions, lens = questions.to(device), lens.to(device)\n",
    "                labels, cats = labels.to(device), cats.to(device)\n",
    "            \n",
    "            # record the batch size\n",
    "            batch_size = questions.size(0)\n",
    "                \n",
    "            # Forward pass\n",
    "            log_ps = model(questions, lens, cats)\n",
    "            \n",
    "            # calculate loss\n",
    "            loss = loss_fn(log_ps, labels)\n",
    "            \n",
    "            # calculate accuracy\n",
    "            answers = torch.topk(input=log_ps, k=1, dim=-1)[1].squeeze()\n",
    "            curr_num_right = torch.sum(answers == labels)\n",
    "            print_every_num_right += curr_num_right\n",
    "            num_right += curr_num_right\n",
    "            total += batch_size\n",
    "            \n",
    "            # zero previous gradients, backprop this iter's loss gradients,\n",
    "            # take a step\n",
    "            optimizer.zero_grad()\n",
    "            loss.backward()\n",
    "            optimizer.step()\n",
    "            \n",
    "            # detach the loss tensors from this iter to save memory and\n",
    "            # keep the computation graph clean\n",
    "            loss.detach()\n",
    "            \n",
    "            if train_iter != 0 and train_iter % args.print_every == 0:\n",
    "                curr_acc = float(print_every_num_right) / float(batch_size * args.print_every)\n",
    "                template = \"(*train* [batch %d] current loss: %4.4f; current acc: %4.4f; num right: %d)\\n\"\n",
    "                logger(template % (train_iter, loss.item(), curr_acc, print_every_num_right))\n",
    "                print_every_num_right = 0.0\n",
    "                eval(model, test_loader, args, train_iter, loss_fn, gpu=gpu)\n",
    "            \n",
    "            # aggregate this iter's losses\n",
    "            train_loss += loss\n",
    "            \n",
    "            step += 1 # used to calculate current (exponentially decayed) KL annealing factor\n",
    "            \n",
    "            if gpu:\n",
    "                torch.cuda.empty_cache()\n",
    "        \n",
    "        # end of epoch\n",
    "        \n",
    "        # testing\n",
    "        model.eval()\n",
    "        if gpu:\n",
    "            torch.cuda.empty_cache()\n",
    "        \n",
    "        for test_iter, batch in enumerate(tqdm(test_loader)):\n",
    "            # get the next batch\n",
    "            questions, lens, cats = batch[0]\n",
    "            labels = batch[1]\n",
    "            \n",
    "            # move to GPU (if necessary)\n",
    "            if gpu:\n",
    "                questions, lens = questions.to(device), lens.to(device)\n",
    "                labels, cats = labels.to(device), cats.to(device)\n",
    "            \n",
    "            # record the batch size\n",
    "            batch_size = questions.size(0)\n",
    "                \n",
    "            # Forward pass\n",
    "            with torch.set_grad_enabled(False):\n",
    "                log_ps = model(questions, lens, cats, training=False)\n",
    "            \n",
    "            # calculate loss\n",
    "            loss = loss_fn(log_ps, labels)\n",
    "            loss.detach()\n",
    "            \n",
    "            # calculate accuracy\n",
    "            answers = torch.topk(input=log_ps, k=1, dim=-1)[1].squeeze()\n",
    "            val_num_right += torch.sum(answers == labels)\n",
    "            val_total += batch_size\n",
    "            \n",
    "            # aggregate losses\n",
    "            val_loss += loss\n",
    "            \n",
    "            # move batch back out of gpu\n",
    "            questions = questions.cpu()\n",
    "            labels = labels.cpu()\n",
    "            del questions\n",
    "            del labels\n",
    "            if gpu:\n",
    "                torch.cuda.empty_cache()\n",
    "        \n",
    "        # get epoch averages\n",
    "        train_loss /= (train_iter + 1.0)\n",
    "        val_loss /= (test_iter + 1.0)\n",
    "        train_acc = float(num_right) / float(total)\n",
    "        val_acc = float(val_num_right) / float(val_total)\n",
    "        \n",
    "        \n",
    "        # bookkeepeing\n",
    "        tracker['loss'].append(train_loss.item())\n",
    "        val_tracker['loss'].append(val_loss.item())\n",
    "        tracker['acc'].append(train_acc)\n",
    "        val_tracker['acc'].append(val_acc)\n",
    "        \n",
    "        \n",
    "        # print to user\n",
    "        logger(\"Epoch %02d/%i:\\n\" % (epoch, args.epochs))\n",
    "        template = \"\\tLoss:\\n\\t\\tTrain avg.: %9.4f\\n\\t\\tTest avg.: %9.4f\\n\"\n",
    "        logger(template % (tracker['loss'][-1], val_tracker['loss'][-1]))\n",
    "        template = \"\\tAccuracy:\\n\\t\\tTrain avg.: %9.5f (%d correct)\\n\\t\\tTest avg.: %9.5f (%d correct)\\n\"\n",
    "        logger(template % (tracker['acc'][-1], num_right, val_tracker['acc'][-1], val_num_right))\n",
    "        logger(\"\\n\")\n",
    "\n",
    "        # save checkpoint after very epoch\n",
    "        checkpoint_path = os.path.join(save_model_path, \"E%i.pytorch\" % (epoch))\n",
    "        torch.save(model.state_dict(), checkpoint_path)\n",
    "        logger(\"[Model saved at {}]\\n\\n\".format(checkpoint_path))\n",
    "        \n",
    "    pickle.dump(tracker, open(os.path.join(save_model_path, 'train-tracker'), 'wb'))\n",
    "    pickle.dump(val_tracker, open(os.path.join(save_model_path, 'val-tracker'), 'wb'))\n",
    "    \n",
    "    # get best model's state dict\n",
    "    best_model_idx = val_tracker['acc'].index(max(val_tracker['acc']))\n",
    "    best_state_dict = torch.load(os.path.join(save_model_path,\n",
    "                                              \"E%i.pytorch\" % (best_model_idx)))\n",
    "    model.load_state_dict(best_state_dict)\n",
    "    \n",
    "    # save best model as 'best'\n",
    "    torch.save(model.state_dict(), os.path.join(save_model_path, 'best.pytorch'))\n",
    "    \n",
    "    # get predictions of best model on dev set\n",
    "    answers = utilities.get_answers(corpus.dev_sents, model, corpus, k=1).numpy()\n",
    "    np.save(os.path.join(save_model_path, model_name + '-pred-y.npy'), answers)\n",
    "    \n",
    "    # graph the performance over epochs\n",
    "    graph_path = os.path.join(save_model_path, model_name)\n",
    "    train_val_plot(tracker, val_tracker, graph_path + '-loss.png', mode='loss')\n",
    "    train_val_plot(tracker, val_tracker, graph_path + '-acc.png', mode='acc')\n",
    "    \n",
    "    # return the trackers and the best model\n",
    "    return tracker, val_tracker, model"
   ]
  },
  {
   "cell_type": "code",
   "execution_count": 52,
   "metadata": {},
   "outputs": [],
   "source": [
    "def train_val_plot(train_tracker, val_tracker, save_path, mode='acc'):\n",
    "    train_x = np.array([i for i in range(len(train_tracker[mode]))])\n",
    "    val_x = np.array([i for i in range(len(val_tracker[mode]))])\n",
    "    train_y = train_tracker[mode]\n",
    "    val_y = val_tracker[mode]\n",
    "    \n",
    "    plt.plot(train_x, train_y, color='black', label='Train {}'.format(mode))\n",
    "    plt.plot(val_x, val_y, color='red', label='Dev {}'.format(mode))\n",
    "    plt.title('Train/dev {}'.format(mode))\n",
    "    plt.legend()\n",
    "    \n",
    "    # save the image to file\n",
    "    plt.savefig(save_path)\n",
    "    plt.clf()"
   ]
  },
  {
   "cell_type": "code",
   "execution_count": 53,
   "metadata": {},
   "outputs": [],
   "source": [
    "def eval(model, test_loader, args, batch_idx, loss_fn, gpu=False):\n",
    "    model.eval()\n",
    "    torch.cuda.empty_cache()\n",
    "    \n",
    "    test_iter = 0.0\n",
    "    val_loss = 0.0\n",
    "    val_num_right = 0.0\n",
    "    val_total = 0.0\n",
    "        \n",
    "    for test_iter, batch in enumerate(test_loader):\n",
    "        # get the next batch\n",
    "        questions, lens, cats = batch[0]\n",
    "        labels = batch[1]\n",
    "            \n",
    "        # move to GPU (if necessary)\n",
    "        if gpu:\n",
    "            questions, lens = questions.to(device), lens.to(device)\n",
    "            labels, cats = labels.to(device), cats.to(device)\n",
    "            \n",
    "        # record the batch size\n",
    "        batch_size = questions.size(0)\n",
    "                \n",
    "        # Forward pass\n",
    "        with torch.set_grad_enabled(False):\n",
    "            log_ps = model(questions, lens, cats, training=False)\n",
    "            \n",
    "        # calculate loss\n",
    "        loss = loss_fn(log_ps, labels)\n",
    "        loss.detach()\n",
    "            \n",
    "        # calculate accuracy\n",
    "        answers = torch.topk(input=log_ps, k=1, dim=-1)[1].squeeze()\n",
    "        val_num_right += torch.sum(answers == labels)\n",
    "        val_total += batch_size\n",
    "            \n",
    "        # aggregate losses\n",
    "        val_loss += loss\n",
    "            \n",
    "        # move batch back out of gpu\n",
    "        questions = questions.cpu()\n",
    "        labels = labels.cpu()\n",
    "        del questions\n",
    "        del labels\n",
    "        if gpu:\n",
    "            torch.cuda.empty_cache()\n",
    "    \n",
    "    val_loss /= (test_iter + 1.0)\n",
    "    val_acc = float(val_num_right) / float(val_total)\n",
    "    template = \"(*dev*   [batch %d] current loss: %4.4f; current acc: %4.4f; num right: %d)\\n\"\n",
    "    logger(template % (batch_idx, val_loss.item(), val_acc, val_num_right))\n",
    "    \n",
    "    model.train()"
   ]
  },
  {
   "cell_type": "code",
   "execution_count": 54,
   "metadata": {},
   "outputs": [],
   "source": [
    "LOG = open('quizbowl-log', 'a')"
   ]
  },
  {
   "cell_type": "code",
   "execution_count": 55,
   "metadata": {},
   "outputs": [],
   "source": [
    "def logger(message):\n",
    "    print(message, end='', flush=True)\n",
    "    LOG.write(message)\n",
    "    LOG.flush()"
   ]
  },
  {
   "cell_type": "code",
   "execution_count": 77,
   "metadata": {},
   "outputs": [],
   "source": [
    "\"\"\"\n",
    "Uncomment and run this little gem if you mess things up and want to try\n",
    "again. Otherwise, you'll end up filling the GPU cache after 6 or 7 reruns.\n",
    "\"\"\"\n",
    "\n",
    "del model\n",
    "torch.cuda.empty_cache()"
   ]
  },
  {
   "cell_type": "code",
   "execution_count": 78,
   "metadata": {},
   "outputs": [
    {
     "data": {
      "text/plain": [
       "512"
      ]
     },
     "execution_count": 78,
     "metadata": {},
     "output_type": "execute_result"
    }
   ],
   "source": [
    "args.epochs = 25\n",
    "args.print_every = 100\n",
    "args.learning_rate = 1e-3\n",
    "args.optimizer = 'adam'\n",
    "corpus.batch_size"
   ]
  },
  {
   "cell_type": "code",
   "execution_count": 79,
   "metadata": {},
   "outputs": [],
   "source": [
    "corpus_p.MAX_SEQUENCE_LENGTH = corpus.max_sequence_length"
   ]
  },
  {
   "cell_type": "code",
   "execution_count": 80,
   "metadata": {},
   "outputs": [
    {
     "data": {
      "text/plain": [
       "449"
      ]
     },
     "execution_count": 80,
     "metadata": {},
     "output_type": "execute_result"
    }
   ],
   "source": [
    "corpus.max_sequence_length"
   ]
  },
  {
   "cell_type": "code",
   "execution_count": 81,
   "metadata": {},
   "outputs": [],
   "source": [
    "q_args = Args()\n",
    "\n",
    "q_args.pad_idx = corpus.vocab['<pad>']\n",
    "q_args.unk_idx = corpus.vocab['<unk>']\n",
    "q_args.batch_size = BATCH_SIZE\n",
    "q_args.max_sequence_length = corpus_p.MAX_SEQUENCE_LENGTH\n",
    "q_args.encoder_hidden_size = 100\n",
    "q_args.code_size = 200\n",
    "q_args.depth = 1\n",
    "q_args.use_cats = False\n",
    "q_args.use_attn = False\n",
    "q_args.attn_length = 10\n",
    "q_args.attn_cat_hidden = False\n",
    "q_args.dropout_rate = 0.4\n",
    "q_args.word_dropout_rate = 0.5\n",
    "q_args.embedding_size = 300\n",
    "q_args.birectional = True\n",
    "q_args.num_layers = 1\n",
    "q_args.rnn_type = 'gru'\n",
    "q_args.bi_mode = 'cat'\n",
    "q_args.answer_size = corpus.num_classes\n",
    "q_args.vocab_size = corpus.num_types\n",
    "q_args.num_cats = corpus.num_cats\n",
    "q_args.pretrained_embedding = corpus.vocab.glove_embeddings\n",
    "\n",
    "model = QuestionAnswerer(**vars(q_args))"
   ]
  },
  {
   "cell_type": "code",
   "execution_count": 82,
   "metadata": {},
   "outputs": [],
   "source": [
    "args.epochs = 20"
   ]
  },
  {
   "cell_type": "code",
   "execution_count": 83,
   "metadata": {},
   "outputs": [
    {
     "name": "stdout",
     "output_type": "stream",
     "text": [
      "QuestionAnswerer(\n",
      "  (embedding): Embedding(7596, 300, padding_idx=0)\n",
      "  (encoder_rnn): GRU(300, 100, batch_first=True, bidirectional=True)\n",
      "  (enc_hidden_norm): BatchNorm1d(200, eps=1e-05, momentum=0.1, affine=True, track_running_stats=True)\n",
      "  (hidden2answer): Linear(in_features=200, out_features=26456, bias=True)\n",
      ")\n",
      "Epoch 0\n"
     ]
    },
    {
     "data": {
      "application/vnd.jupyter.widget-view+json": {
       "model_id": "5718e079e7384618924ae65a21560e88",
       "version_major": 2,
       "version_minor": 0
      },
      "text/plain": [
       "HBox(children=(IntProgress(value=0, max=252), HTML(value='')))"
      ]
     },
     "metadata": {},
     "output_type": "display_data"
    },
    {
     "name": "stdout",
     "output_type": "stream",
     "text": [
      "(*train* [batch 100] current loss: 9.6636; current acc: 0.0091; num right: 467)\n",
      "(*dev*   [batch 100] current loss: 9.7909; current acc: 0.0234; num right: 48)\n",
      "(*train* [batch 200] current loss: 8.8454; current acc: 0.0526; num right: 2695)\n",
      "(*dev*   [batch 200] current loss: 8.9876; current acc: 0.0894; num right: 183)\n"
     ]
    },
    {
     "data": {
      "application/vnd.jupyter.widget-view+json": {
       "model_id": "f1eb36830d7a4feb9ec2912c512aed38",
       "version_major": 2,
       "version_minor": 0
      },
      "text/plain": [
       "HBox(children=(IntProgress(value=0, max=4), HTML(value='')))"
      ]
     },
     "metadata": {},
     "output_type": "display_data"
    },
    {
     "name": "stdout",
     "output_type": "stream",
     "text": [
      "Epoch 00/20:\n",
      "\tLoss:\n",
      "\t\tTrain avg.:    9.4825\n",
      "\t\tTest avg.:    8.5188\n",
      "\tAccuracy:\n",
      "\t\tTrain avg.:   0.04085 (5270 correct)\n",
      "\t\tTest avg.:   0.11768 (241 correct)\n",
      "\n",
      "[Model saved at bin/gru-dropout-0.50/E0.pytorch]\n",
      "\n",
      "Epoch 1\n"
     ]
    },
    {
     "data": {
      "application/vnd.jupyter.widget-view+json": {
       "model_id": "795f48777b75405f867f887d33a3b449",
       "version_major": 2,
       "version_minor": 0
      },
      "text/plain": [
       "HBox(children=(IntProgress(value=0, max=252), HTML(value='')))"
      ]
     },
     "metadata": {},
     "output_type": "display_data"
    },
    {
     "name": "stdout",
     "output_type": "stream",
     "text": [
      "(*train* [batch 100] current loss: 7.2468; current acc: 0.1283; num right: 6570)\n",
      "(*dev*   [batch 100] current loss: 7.8620; current acc: 0.1685; num right: 345)\n",
      "(*train* [batch 200] current loss: 6.8408; current acc: 0.1818; num right: 9306)\n",
      "(*dev*   [batch 200] current loss: 7.0790; current acc: 0.2183; num right: 447)\n"
     ]
    },
    {
     "data": {
      "application/vnd.jupyter.widget-view+json": {
       "model_id": "991c9a0c38e64d25a63ca5b25047e75d",
       "version_major": 2,
       "version_minor": 0
      },
      "text/plain": [
       "HBox(children=(IntProgress(value=0, max=4), HTML(value='')))"
      ]
     },
     "metadata": {},
     "output_type": "display_data"
    },
    {
     "name": "stdout",
     "output_type": "stream",
     "text": [
      "Epoch 01/20:\n",
      "\tLoss:\n",
      "\t\tTrain avg.:    7.2045\n",
      "\t\tTest avg.:    6.7386\n",
      "\tAccuracy:\n",
      "\t\tTrain avg.:   0.16734 (21591 correct)\n",
      "\t\tTest avg.:   0.24512 (502 correct)\n",
      "\n",
      "[Model saved at bin/gru-dropout-0.50/E1.pytorch]\n",
      "\n",
      "Epoch 2\n"
     ]
    },
    {
     "data": {
      "application/vnd.jupyter.widget-view+json": {
       "model_id": "ea3fd813bc1048608e9aea0aaa9ec71f",
       "version_major": 2,
       "version_minor": 0
      },
      "text/plain": [
       "HBox(children=(IntProgress(value=0, max=252), HTML(value='')))"
      ]
     },
     "metadata": {},
     "output_type": "display_data"
    },
    {
     "name": "stdout",
     "output_type": "stream",
     "text": [
      "(*train* [batch 100] current loss: 5.4359; current acc: 0.2749; num right: 14076)\n",
      "(*dev*   [batch 100] current loss: 6.1134; current acc: 0.3008; num right: 616)\n",
      "(*train* [batch 200] current loss: 5.0547; current acc: 0.3149; num right: 16122)\n",
      "(*dev*   [batch 200] current loss: 5.6284; current acc: 0.3359; num right: 688)\n"
     ]
    },
    {
     "data": {
      "application/vnd.jupyter.widget-view+json": {
       "model_id": "054a96d369a740cbae52bfc5ad1012a0",
       "version_major": 2,
       "version_minor": 0
      },
      "text/plain": [
       "HBox(children=(IntProgress(value=0, max=4), HTML(value='')))"
      ]
     },
     "metadata": {},
     "output_type": "display_data"
    },
    {
     "name": "stdout",
     "output_type": "stream",
     "text": [
      "Epoch 02/20:\n",
      "\tLoss:\n",
      "\t\tTrain avg.:    5.3472\n",
      "\t\tTest avg.:    5.4924\n",
      "\tAccuracy:\n",
      "\t\tTrain avg.:   0.30346 (39154 correct)\n",
      "\t\tTest avg.:   0.34375 (704 correct)\n",
      "\n",
      "[Model saved at bin/gru-dropout-0.50/E2.pytorch]\n",
      "\n",
      "Epoch 3\n"
     ]
    },
    {
     "data": {
      "application/vnd.jupyter.widget-view+json": {
       "model_id": "4bcff852de9d462d81d43a7229152191",
       "version_major": 2,
       "version_minor": 0
      },
      "text/plain": [
       "HBox(children=(IntProgress(value=0, max=252), HTML(value='')))"
      ]
     },
     "metadata": {},
     "output_type": "display_data"
    },
    {
     "name": "stdout",
     "output_type": "stream",
     "text": [
      "(*train* [batch 100] current loss: 4.0549; current acc: 0.4027; num right: 20619)\n",
      "(*dev*   [batch 100] current loss: 5.1507; current acc: 0.3867; num right: 792)\n",
      "(*train* [batch 200] current loss: 3.8528; current acc: 0.4231; num right: 21664)\n",
      "(*dev*   [batch 200] current loss: 4.8604; current acc: 0.4175; num right: 855)\n"
     ]
    },
    {
     "data": {
      "application/vnd.jupyter.widget-view+json": {
       "model_id": "1cc41cb0f1b84ddd9ae9b438e02b7ae9",
       "version_major": 2,
       "version_minor": 0
      },
      "text/plain": [
       "HBox(children=(IntProgress(value=0, max=4), HTML(value='')))"
      ]
     },
     "metadata": {},
     "output_type": "display_data"
    },
    {
     "name": "stdout",
     "output_type": "stream",
     "text": [
      "Epoch 03/20:\n",
      "\tLoss:\n",
      "\t\tTrain avg.:    3.9662\n",
      "\t\tTest avg.:    4.7382\n",
      "\tAccuracy:\n",
      "\t\tTrain avg.:   0.41706 (53811 correct)\n",
      "\t\tTest avg.:   0.43848 (898 correct)\n",
      "\n",
      "[Model saved at bin/gru-dropout-0.50/E3.pytorch]\n",
      "\n",
      "Epoch 4\n"
     ]
    },
    {
     "data": {
      "application/vnd.jupyter.widget-view+json": {
       "model_id": "a48cb82141d04ebfacfc1be410925b70",
       "version_major": 2,
       "version_minor": 0
      },
      "text/plain": [
       "HBox(children=(IntProgress(value=0, max=252), HTML(value='')))"
      ]
     },
     "metadata": {},
     "output_type": "display_data"
    },
    {
     "name": "stdout",
     "output_type": "stream",
     "text": [
      "(*train* [batch 100] current loss: 3.1858; current acc: 0.5146; num right: 26349)\n",
      "(*dev*   [batch 100] current loss: 4.6665; current acc: 0.4434; num right: 908)\n",
      "(*train* [batch 200] current loss: 2.8698; current acc: 0.5152; num right: 26378)\n",
      "(*dev*   [batch 200] current loss: 4.5408; current acc: 0.4609; num right: 944)\n"
     ]
    },
    {
     "data": {
      "application/vnd.jupyter.widget-view+json": {
       "model_id": "1f7d4289fa7a400d98ab0b8e9f7f3e02",
       "version_major": 2,
       "version_minor": 0
      },
      "text/plain": [
       "HBox(children=(IntProgress(value=0, max=4), HTML(value='')))"
      ]
     },
     "metadata": {},
     "output_type": "display_data"
    },
    {
     "name": "stdout",
     "output_type": "stream",
     "text": [
      "Epoch 04/20:\n",
      "\tLoss:\n",
      "\t\tTrain avg.:    2.9613\n",
      "\t\tTest avg.:    4.4531\n",
      "\tAccuracy:\n",
      "\t\tTrain avg.:   0.51486 (66429 correct)\n",
      "\t\tTest avg.:   0.47559 (974 correct)\n",
      "\n",
      "[Model saved at bin/gru-dropout-0.50/E4.pytorch]\n",
      "\n",
      "Epoch 5\n"
     ]
    },
    {
     "data": {
      "application/vnd.jupyter.widget-view+json": {
       "model_id": "e6886e4aefda4b6d82d3e8e8d7d1d676",
       "version_major": 2,
       "version_minor": 0
      },
      "text/plain": [
       "HBox(children=(IntProgress(value=0, max=252), HTML(value='')))"
      ]
     },
     "metadata": {},
     "output_type": "display_data"
    },
    {
     "name": "stdout",
     "output_type": "stream",
     "text": [
      "(*train* [batch 100] current loss: 2.3214; current acc: 0.6181; num right: 31646)\n",
      "(*dev*   [batch 100] current loss: 4.4787; current acc: 0.4810; num right: 985)\n",
      "(*train* [batch 200] current loss: 2.1687; current acc: 0.5980; num right: 30616)\n",
      "(*dev*   [batch 200] current loss: 4.3420; current acc: 0.5005; num right: 1025)\n"
     ]
    },
    {
     "data": {
      "application/vnd.jupyter.widget-view+json": {
       "model_id": "4b506cb37d314f819527c1a70d9a5210",
       "version_major": 2,
       "version_minor": 0
      },
      "text/plain": [
       "HBox(children=(IntProgress(value=0, max=4), HTML(value='')))"
      ]
     },
     "metadata": {},
     "output_type": "display_data"
    },
    {
     "name": "stdout",
     "output_type": "stream",
     "text": [
      "Epoch 05/20:\n",
      "\tLoss:\n",
      "\t\tTrain avg.:    2.2249\n",
      "\t\tTest avg.:    4.3438\n",
      "\tAccuracy:\n",
      "\t\tTrain avg.:   0.60399 (77929 correct)\n",
      "\t\tTest avg.:   0.50488 (1034 correct)\n",
      "\n",
      "[Model saved at bin/gru-dropout-0.50/E5.pytorch]\n",
      "\n",
      "Epoch 6\n"
     ]
    },
    {
     "data": {
      "application/vnd.jupyter.widget-view+json": {
       "model_id": "68d990fbe73949d3a160a9ea89a8bb24",
       "version_major": 2,
       "version_minor": 0
      },
      "text/plain": [
       "HBox(children=(IntProgress(value=0, max=252), HTML(value='')))"
      ]
     },
     "metadata": {},
     "output_type": "display_data"
    },
    {
     "name": "stdout",
     "output_type": "stream",
     "text": [
      "(*train* [batch 100] current loss: 1.7058; current acc: 0.6979; num right: 35735)\n",
      "(*dev*   [batch 100] current loss: 4.4360; current acc: 0.5024; num right: 1029)\n",
      "(*train* [batch 200] current loss: 1.8907; current acc: 0.6805; num right: 34844)\n",
      "(*dev*   [batch 200] current loss: 4.3873; current acc: 0.5132; num right: 1051)\n"
     ]
    },
    {
     "data": {
      "application/vnd.jupyter.widget-view+json": {
       "model_id": "4bc7a8d5b53f41c7bf6b9830ac43f985",
       "version_major": 2,
       "version_minor": 0
      },
      "text/plain": [
       "HBox(children=(IntProgress(value=0, max=4), HTML(value='')))"
      ]
     },
     "metadata": {},
     "output_type": "display_data"
    },
    {
     "name": "stdout",
     "output_type": "stream",
     "text": [
      "Epoch 06/20:\n",
      "\tLoss:\n",
      "\t\tTrain avg.:    1.6807\n",
      "\t\tTest avg.:    4.4025\n",
      "\tAccuracy:\n",
      "\t\tTrain avg.:   0.68356 (88196 correct)\n",
      "\t\tTest avg.:   0.51270 (1050 correct)\n",
      "\n",
      "[Model saved at bin/gru-dropout-0.50/E6.pytorch]\n",
      "\n",
      "Epoch 7\n"
     ]
    },
    {
     "data": {
      "application/vnd.jupyter.widget-view+json": {
       "model_id": "3ad8f41a3882455a88cece646539c459",
       "version_major": 2,
       "version_minor": 0
      },
      "text/plain": [
       "HBox(children=(IntProgress(value=0, max=252), HTML(value='')))"
      ]
     },
     "metadata": {},
     "output_type": "display_data"
    },
    {
     "name": "stdout",
     "output_type": "stream",
     "text": [
      "(*train* [batch 100] current loss: 1.4019; current acc: 0.7564; num right: 38726)\n",
      "(*dev*   [batch 100] current loss: 4.4794; current acc: 0.5215; num right: 1068)\n",
      "(*train* [batch 200] current loss: 1.2353; current acc: 0.7340; num right: 37583)\n",
      "(*dev*   [batch 200] current loss: 4.4250; current acc: 0.5210; num right: 1067)\n"
     ]
    },
    {
     "data": {
      "application/vnd.jupyter.widget-view+json": {
       "model_id": "2fb1dd24e41e4f52935540d8b298c24c",
       "version_major": 2,
       "version_minor": 0
      },
      "text/plain": [
       "HBox(children=(IntProgress(value=0, max=4), HTML(value='')))"
      ]
     },
     "metadata": {},
     "output_type": "display_data"
    },
    {
     "name": "stdout",
     "output_type": "stream",
     "text": [
      "Epoch 07/20:\n",
      "\tLoss:\n",
      "\t\tTrain avg.:    1.3145\n",
      "\t\tTest avg.:    4.4398\n",
      "\tAccuracy:\n",
      "\t\tTrain avg.:   0.73910 (95362 correct)\n",
      "\t\tTest avg.:   0.52002 (1065 correct)\n",
      "\n",
      "[Model saved at bin/gru-dropout-0.50/E7.pytorch]\n",
      "\n",
      "Epoch 8\n"
     ]
    },
    {
     "data": {
      "application/vnd.jupyter.widget-view+json": {
       "model_id": "05425a2013c040ea9f51a45c7b4229df",
       "version_major": 2,
       "version_minor": 0
      },
      "text/plain": [
       "HBox(children=(IntProgress(value=0, max=252), HTML(value='')))"
      ]
     },
     "metadata": {},
     "output_type": "display_data"
    },
    {
     "name": "stdout",
     "output_type": "stream",
     "text": [
      "(*train* [batch 100] current loss: 1.1714; current acc: 0.7922; num right: 40561)\n",
      "(*dev*   [batch 100] current loss: 4.5021; current acc: 0.5234; num right: 1072)\n",
      "(*train* [batch 200] current loss: 0.8440; current acc: 0.8010; num right: 41012)\n",
      "(*dev*   [batch 200] current loss: 4.6244; current acc: 0.5376; num right: 1101)\n"
     ]
    },
    {
     "data": {
      "application/vnd.jupyter.widget-view+json": {
       "model_id": "626fbf719fbe409ab16e0f12e9a83b2e",
       "version_major": 2,
       "version_minor": 0
      },
      "text/plain": [
       "HBox(children=(IntProgress(value=0, max=4), HTML(value='')))"
      ]
     },
     "metadata": {},
     "output_type": "display_data"
    },
    {
     "name": "stdout",
     "output_type": "stream",
     "text": [
      "Epoch 09/20:\n",
      "\tLoss:\n",
      "\t\tTrain avg.:    0.9310\n",
      "\t\tTest avg.:    4.6676\n",
      "\tAccuracy:\n",
      "\t\tTrain avg.:   0.80214 (103495 correct)\n",
      "\t\tTest avg.:   0.53613 (1098 correct)\n",
      "\n",
      "[Model saved at bin/gru-dropout-0.50/E9.pytorch]\n",
      "\n",
      "Epoch 10\n"
     ]
    },
    {
     "data": {
      "application/vnd.jupyter.widget-view+json": {
       "model_id": "546c5fc000fc4f01879db17fc4ad873f",
       "version_major": 2,
       "version_minor": 0
      },
      "text/plain": [
       "HBox(children=(IntProgress(value=0, max=252), HTML(value='')))"
      ]
     },
     "metadata": {},
     "output_type": "display_data"
    },
    {
     "name": "stdout",
     "output_type": "stream",
     "text": [
      "(*train* [batch 100] current loss: 0.7860; current acc: 0.8439; num right: 43208)\n",
      "(*dev*   [batch 100] current loss: 4.7395; current acc: 0.5244; num right: 1074)\n",
      "(*train* [batch 200] current loss: 0.7144; current acc: 0.8211; num right: 42041)\n",
      "(*dev*   [batch 200] current loss: 4.7594; current acc: 0.5288; num right: 1083)\n"
     ]
    },
    {
     "data": {
      "application/vnd.jupyter.widget-view+json": {
       "model_id": "2c8f14d173d04855b5ca7d5bbcdcdfe9",
       "version_major": 2,
       "version_minor": 0
      },
      "text/plain": [
       "HBox(children=(IntProgress(value=0, max=4), HTML(value='')))"
      ]
     },
     "metadata": {},
     "output_type": "display_data"
    },
    {
     "name": "stdout",
     "output_type": "stream",
     "text": [
      "Epoch 10/20:\n",
      "\tLoss:\n",
      "\t\tTrain avg.:    0.8049\n",
      "\t\tTest avg.:    4.7253\n",
      "\tAccuracy:\n",
      "\t\tTrain avg.:   0.82551 (106510 correct)\n",
      "\t\tTest avg.:   0.53906 (1104 correct)\n",
      "\n",
      "[Model saved at bin/gru-dropout-0.50/E10.pytorch]\n",
      "\n",
      "Epoch 11\n"
     ]
    },
    {
     "data": {
      "application/vnd.jupyter.widget-view+json": {
       "model_id": "8736ae06b20e4395bb0aa69a55b70631",
       "version_major": 2,
       "version_minor": 0
      },
      "text/plain": [
       "HBox(children=(IntProgress(value=0, max=252), HTML(value='')))"
      ]
     },
     "metadata": {},
     "output_type": "display_data"
    },
    {
     "name": "stdout",
     "output_type": "stream",
     "text": [
      "(*train* [batch 100] current loss: 0.7202; current acc: 0.8571; num right: 43882)\n",
      "(*dev*   [batch 100] current loss: 4.8577; current acc: 0.5420; num right: 1110)\n",
      "(*train* [batch 200] current loss: 0.6300; current acc: 0.8353; num right: 42768)\n",
      "(*dev*   [batch 200] current loss: 4.7901; current acc: 0.5498; num right: 1126)\n"
     ]
    },
    {
     "data": {
      "application/vnd.jupyter.widget-view+json": {
       "model_id": "4b7492f0227947e0b74ef80aeb397365",
       "version_major": 2,
       "version_minor": 0
      },
      "text/plain": [
       "HBox(children=(IntProgress(value=0, max=4), HTML(value='')))"
      ]
     },
     "metadata": {},
     "output_type": "display_data"
    },
    {
     "name": "stdout",
     "output_type": "stream",
     "text": [
      "Epoch 11/20:\n",
      "\tLoss:\n",
      "\t\tTrain avg.:    0.7203\n",
      "\t\tTest avg.:    4.9758\n",
      "\tAccuracy:\n",
      "\t\tTrain avg.:   0.83978 (108352 correct)\n",
      "\t\tTest avg.:   0.54736 (1121 correct)\n",
      "\n",
      "[Model saved at bin/gru-dropout-0.50/E11.pytorch]\n",
      "\n",
      "Epoch 12\n"
     ]
    },
    {
     "data": {
      "application/vnd.jupyter.widget-view+json": {
       "model_id": "5c53bbba1738473295a568ca7dc949cc",
       "version_major": 2,
       "version_minor": 0
      },
      "text/plain": [
       "HBox(children=(IntProgress(value=0, max=252), HTML(value='')))"
      ]
     },
     "metadata": {},
     "output_type": "display_data"
    },
    {
     "name": "stdout",
     "output_type": "stream",
     "text": [
      "(*train* [batch 100] current loss: 0.6155; current acc: 0.8698; num right: 44535)\n",
      "(*dev*   [batch 100] current loss: 4.8515; current acc: 0.5425; num right: 1111)\n",
      "(*train* [batch 200] current loss: 0.6633; current acc: 0.8468; num right: 43356)\n",
      "(*dev*   [batch 200] current loss: 4.9330; current acc: 0.5410; num right: 1108)\n"
     ]
    },
    {
     "data": {
      "application/vnd.jupyter.widget-view+json": {
       "model_id": "b0f4c58c27f04785a00cf7f6771403de",
       "version_major": 2,
       "version_minor": 0
      },
      "text/plain": [
       "HBox(children=(IntProgress(value=0, max=4), HTML(value='')))"
      ]
     },
     "metadata": {},
     "output_type": "display_data"
    },
    {
     "name": "stdout",
     "output_type": "stream",
     "text": [
      "Epoch 12/20:\n",
      "\tLoss:\n",
      "\t\tTrain avg.:    0.6513\n",
      "\t\tTest avg.:    4.9890\n",
      "\tAccuracy:\n",
      "\t\tTrain avg.:   0.85193 (109920 correct)\n",
      "\t\tTest avg.:   0.54297 (1112 correct)\n",
      "\n",
      "[Model saved at bin/gru-dropout-0.50/E12.pytorch]\n",
      "\n",
      "Epoch 13\n"
     ]
    },
    {
     "data": {
      "application/vnd.jupyter.widget-view+json": {
       "model_id": "d4b0f042be9442d286c918a31a041fa4",
       "version_major": 2,
       "version_minor": 0
      },
      "text/plain": [
       "HBox(children=(IntProgress(value=0, max=252), HTML(value='')))"
      ]
     },
     "metadata": {},
     "output_type": "display_data"
    },
    {
     "name": "stdout",
     "output_type": "stream",
     "text": [
      "(*train* [batch 100] current loss: 0.7628; current acc: 0.8750; num right: 44801)\n",
      "(*dev*   [batch 100] current loss: 5.0155; current acc: 0.5396; num right: 1105)\n",
      "(*train* [batch 200] current loss: 0.7330; current acc: 0.8582; num right: 43938)\n",
      "(*dev*   [batch 200] current loss: 5.0906; current acc: 0.5342; num right: 1094)\n"
     ]
    },
    {
     "data": {
      "application/vnd.jupyter.widget-view+json": {
       "model_id": "9e39925d66b341b79d49c36fe8d02908",
       "version_major": 2,
       "version_minor": 0
      },
      "text/plain": [
       "HBox(children=(IntProgress(value=0, max=4), HTML(value='')))"
      ]
     },
     "metadata": {},
     "output_type": "display_data"
    },
    {
     "name": "stdout",
     "output_type": "stream",
     "text": [
      "Epoch 13/20:\n",
      "\tLoss:\n",
      "\t\tTrain avg.:    0.6027\n",
      "\t\tTest avg.:    5.0598\n",
      "\tAccuracy:\n",
      "\t\tTrain avg.:   0.86054 (111030 correct)\n",
      "\t\tTest avg.:   0.54102 (1108 correct)\n",
      "\n",
      "[Model saved at bin/gru-dropout-0.50/E13.pytorch]\n",
      "\n",
      "Epoch 14\n"
     ]
    },
    {
     "data": {
      "application/vnd.jupyter.widget-view+json": {
       "model_id": "e05bee31fa914aa18aa1de26bfaaefd8",
       "version_major": 2,
       "version_minor": 0
      },
      "text/plain": [
       "HBox(children=(IntProgress(value=0, max=252), HTML(value='')))"
      ]
     },
     "metadata": {},
     "output_type": "display_data"
    },
    {
     "name": "stdout",
     "output_type": "stream",
     "text": [
      "(*train* [batch 100] current loss: 0.5789; current acc: 0.8831; num right: 45216)\n",
      "(*dev*   [batch 100] current loss: 5.1382; current acc: 0.5430; num right: 1112)\n",
      "(*train* [batch 200] current loss: 0.5966; current acc: 0.8653; num right: 44304)\n",
      "(*dev*   [batch 200] current loss: 5.1012; current acc: 0.5469; num right: 1120)\n"
     ]
    },
    {
     "data": {
      "application/vnd.jupyter.widget-view+json": {
       "model_id": "eb2dad92794441068dad8e5da294055c",
       "version_major": 2,
       "version_minor": 0
      },
      "text/plain": [
       "HBox(children=(IntProgress(value=0, max=4), HTML(value='')))"
      ]
     },
     "metadata": {},
     "output_type": "display_data"
    },
    {
     "name": "stdout",
     "output_type": "stream",
     "text": [
      "Epoch 14/20:\n",
      "\tLoss:\n",
      "\t\tTrain avg.:    0.5568\n",
      "\t\tTest avg.:    5.2795\n",
      "\tAccuracy:\n",
      "\t\tTrain avg.:   0.86902 (112124 correct)\n",
      "\t\tTest avg.:   0.54248 (1111 correct)\n",
      "\n",
      "[Model saved at bin/gru-dropout-0.50/E14.pytorch]\n",
      "\n",
      "Epoch 15\n"
     ]
    },
    {
     "data": {
      "application/vnd.jupyter.widget-view+json": {
       "model_id": "0dd26480ac9149f8bbb08e1461ff9f1b",
       "version_major": 2,
       "version_minor": 0
      },
      "text/plain": [
       "HBox(children=(IntProgress(value=0, max=252), HTML(value='')))"
      ]
     },
     "metadata": {},
     "output_type": "display_data"
    },
    {
     "name": "stdout",
     "output_type": "stream",
     "text": [
      "(*train* [batch 100] current loss: 0.3894; current acc: 0.8888; num right: 45506)\n",
      "(*dev*   [batch 100] current loss: 5.2585; current acc: 0.5439; num right: 1114)\n",
      "(*train* [batch 200] current loss: 0.5074; current acc: 0.8756; num right: 44832)\n",
      "(*dev*   [batch 200] current loss: 5.2052; current acc: 0.5396; num right: 1105)\n"
     ]
    },
    {
     "data": {
      "application/vnd.jupyter.widget-view+json": {
       "model_id": "2246e5377f854e538c9688e71a92ef17",
       "version_major": 2,
       "version_minor": 0
      },
      "text/plain": [
       "HBox(children=(IntProgress(value=0, max=4), HTML(value='')))"
      ]
     },
     "metadata": {},
     "output_type": "display_data"
    },
    {
     "name": "stdout",
     "output_type": "stream",
     "text": [
      "Epoch 15/20:\n",
      "\tLoss:\n",
      "\t\tTrain avg.:    0.5207\n",
      "\t\tTest avg.:    5.2444\n",
      "\tAccuracy:\n",
      "\t\tTrain avg.:   0.87522 (112925 correct)\n",
      "\t\tTest avg.:   0.53906 (1104 correct)\n",
      "\n",
      "[Model saved at bin/gru-dropout-0.50/E15.pytorch]\n",
      "\n",
      "Epoch 16\n"
     ]
    },
    {
     "data": {
      "application/vnd.jupyter.widget-view+json": {
       "model_id": "3afb528292434ffaa983a5aeaa54b4fc",
       "version_major": 2,
       "version_minor": 0
      },
      "text/plain": [
       "HBox(children=(IntProgress(value=0, max=252), HTML(value='')))"
      ]
     },
     "metadata": {},
     "output_type": "display_data"
    },
    {
     "name": "stdout",
     "output_type": "stream",
     "text": [
      "(*train* [batch 100] current loss: 0.5487; current acc: 0.8993; num right: 46043)\n",
      "(*dev*   [batch 100] current loss: 5.3329; current acc: 0.5405; num right: 1107)\n",
      "(*train* [batch 200] current loss: 0.4531; current acc: 0.8806; num right: 45085)\n",
      "(*dev*   [batch 200] current loss: 5.2715; current acc: 0.5479; num right: 1122)\n"
     ]
    },
    {
     "data": {
      "application/vnd.jupyter.widget-view+json": {
       "model_id": "1925877d5a414ead94b23421462ad29e",
       "version_major": 2,
       "version_minor": 0
      },
      "text/plain": [
       "HBox(children=(IntProgress(value=0, max=4), HTML(value='')))"
      ]
     },
     "metadata": {},
     "output_type": "display_data"
    },
    {
     "name": "stdout",
     "output_type": "stream",
     "text": [
      "Epoch 16/20:\n",
      "\tLoss:\n",
      "\t\tTrain avg.:    0.4839\n",
      "\t\tTest avg.:    5.3368\n",
      "\tAccuracy:\n",
      "\t\tTrain avg.:   0.88373 (114022 correct)\n",
      "\t\tTest avg.:   0.54248 (1111 correct)\n",
      "\n",
      "[Model saved at bin/gru-dropout-0.50/E16.pytorch]\n",
      "\n",
      "Epoch 17\n"
     ]
    },
    {
     "data": {
      "application/vnd.jupyter.widget-view+json": {
       "model_id": "dda8890ef1bf49fd972796a66b651563",
       "version_major": 2,
       "version_minor": 0
      },
      "text/plain": [
       "HBox(children=(IntProgress(value=0, max=252), HTML(value='')))"
      ]
     },
     "metadata": {},
     "output_type": "display_data"
    },
    {
     "name": "stdout",
     "output_type": "stream",
     "text": [
      "(*train* [batch 100] current loss: 0.4415; current acc: 0.9024; num right: 46205)\n",
      "(*dev*   [batch 100] current loss: 5.2496; current acc: 0.5391; num right: 1104)\n",
      "(*train* [batch 200] current loss: 0.5073; current acc: 0.8830; num right: 45211)\n",
      "(*dev*   [batch 200] current loss: 5.3436; current acc: 0.5527; num right: 1132)\n"
     ]
    },
    {
     "data": {
      "application/vnd.jupyter.widget-view+json": {
       "model_id": "f5f40facfff84dd080fb9e7b8a76cd57",
       "version_major": 2,
       "version_minor": 0
      },
      "text/plain": [
       "HBox(children=(IntProgress(value=0, max=4), HTML(value='')))"
      ]
     },
     "metadata": {},
     "output_type": "display_data"
    },
    {
     "name": "stdout",
     "output_type": "stream",
     "text": [
      "Epoch 17/20:\n",
      "\tLoss:\n",
      "\t\tTrain avg.:    0.4642\n",
      "\t\tTest avg.:    5.2297\n",
      "\tAccuracy:\n",
      "\t\tTrain avg.:   0.88700 (114444 correct)\n",
      "\t\tTest avg.:   0.55078 (1128 correct)\n",
      "\n",
      "[Model saved at bin/gru-dropout-0.50/E17.pytorch]\n",
      "\n",
      "Epoch 18\n"
     ]
    },
    {
     "data": {
      "application/vnd.jupyter.widget-view+json": {
       "model_id": "13fb308a1a56450b96bb58e0f3ed0280",
       "version_major": 2,
       "version_minor": 0
      },
      "text/plain": [
       "HBox(children=(IntProgress(value=0, max=252), HTML(value='')))"
      ]
     },
     "metadata": {},
     "output_type": "display_data"
    },
    {
     "name": "stdout",
     "output_type": "stream",
     "text": [
      "(*train* [batch 100] current loss: 0.5167; current acc: 0.9072; num right: 46448)\n",
      "(*dev*   [batch 100] current loss: 5.3937; current acc: 0.5483; num right: 1123)\n",
      "(*train* [batch 200] current loss: 0.4355; current acc: 0.8896; num right: 45549)\n",
      "(*dev*   [batch 200] current loss: 5.5601; current acc: 0.5396; num right: 1105)\n"
     ]
    },
    {
     "data": {
      "application/vnd.jupyter.widget-view+json": {
       "model_id": "75628f7aa53f45a3a18a9585f70abe11",
       "version_major": 2,
       "version_minor": 0
      },
      "text/plain": [
       "HBox(children=(IntProgress(value=0, max=4), HTML(value='')))"
      ]
     },
     "metadata": {},
     "output_type": "display_data"
    },
    {
     "name": "stdout",
     "output_type": "stream",
     "text": [
      "Epoch 18/20:\n",
      "\tLoss:\n",
      "\t\tTrain avg.:    0.4450\n",
      "\t\tTest avg.:    5.5087\n",
      "\tAccuracy:\n",
      "\t\tTrain avg.:   0.89202 (115092 correct)\n",
      "\t\tTest avg.:   0.54395 (1114 correct)\n",
      "\n",
      "[Model saved at bin/gru-dropout-0.50/E18.pytorch]\n",
      "\n",
      "Epoch 19\n"
     ]
    },
    {
     "data": {
      "application/vnd.jupyter.widget-view+json": {
       "model_id": "04f714d1f99d4bcf8cbc681c62d592f8",
       "version_major": 2,
       "version_minor": 0
      },
      "text/plain": [
       "HBox(children=(IntProgress(value=0, max=252), HTML(value='')))"
      ]
     },
     "metadata": {},
     "output_type": "display_data"
    },
    {
     "name": "stdout",
     "output_type": "stream",
     "text": [
      "(*train* [batch 100] current loss: 0.4881; current acc: 0.9079; num right: 46484)\n",
      "(*dev*   [batch 100] current loss: 5.4137; current acc: 0.5518; num right: 1130)\n",
      "(*train* [batch 200] current loss: 0.4277; current acc: 0.8923; num right: 45688)\n",
      "(*dev*   [batch 200] current loss: 5.5622; current acc: 0.5342; num right: 1094)\n"
     ]
    },
    {
     "data": {
      "application/vnd.jupyter.widget-view+json": {
       "model_id": "c9545abe97c6425f851c6446c53124fd",
       "version_major": 2,
       "version_minor": 0
      },
      "text/plain": [
       "HBox(children=(IntProgress(value=0, max=4), HTML(value='')))"
      ]
     },
     "metadata": {},
     "output_type": "display_data"
    },
    {
     "name": "stdout",
     "output_type": "stream",
     "text": [
      "Epoch 19/20:\n",
      "\tLoss:\n",
      "\t\tTrain avg.:    0.4276\n",
      "\t\tTest avg.:    5.5536\n",
      "\tAccuracy:\n",
      "\t\tTrain avg.:   0.89435 (115393 correct)\n",
      "\t\tTest avg.:   0.54053 (1107 correct)\n",
      "\n",
      "[Model saved at bin/gru-dropout-0.50/E19.pytorch]\n",
      "\n"
     ]
    },
    {
     "data": {
      "text/plain": [
       "<Figure size 432x288 with 0 Axes>"
      ]
     },
     "metadata": {},
     "output_type": "display_data"
    }
   ],
   "source": [
    "tracker, val_tracker, model = train_classifier(args, model, corpus, \n",
    "                                               model_name='gru-dropout-0.50',\n",
    "                                               model_args=q_args,\n",
    "                                               gpu=True)"
   ]
  },
  {
   "cell_type": "code",
   "execution_count": 86,
   "metadata": {},
   "outputs": [],
   "source": [
    "tracker00 = pickle.load(open('bin/gru-dropout-0.00/val-tracker', 'rb'))\n",
    "tracker25 = pickle.load(open('bin/gru-dropout-0.25/val-tracker', 'rb'))\n",
    "tracker50 = pickle.load(open('bin/gru-dropout-0.50/val-tracker', 'rb'))"
   ]
  },
  {
   "cell_type": "code",
   "execution_count": 87,
   "metadata": {},
   "outputs": [],
   "source": [
    "x = np.array(list(range(20)))"
   ]
  },
  {
   "cell_type": "code",
   "execution_count": 88,
   "metadata": {},
   "outputs": [],
   "source": [
    "y00 = np.array(tracker00['acc'])\n",
    "y25 = np.array(tracker25['acc'])\n",
    "y50 = np.array(tracker50['acc'])"
   ]
  },
  {
   "cell_type": "code",
   "execution_count": 92,
   "metadata": {},
   "outputs": [
    {
     "data": {
      "image/png": "[encoded data removed]",
      "text/plain": [
       "<Figure size 432x288 with 1 Axes>"
      ]
     },
     "metadata": {},
     "output_type": "display_data"
    },
    {
     "data": {
      "text/plain": [
       "<Figure size 432x288 with 0 Axes>"
      ]
     },
     "metadata": {},
     "output_type": "display_data"
    }
   ],
   "source": [
    "plt.plot(x, y00, color='black', label='Word dropout = 0.0')\n",
    "plt.plot(x, y25, color='red', label='Word dropout = 0.25')\n",
    "plt.plot(x, y50, color='blue', label='Word dropout = 0.50')\n",
    "plt.title('Dev Accuracy vs Word Dropout')\n",
    "plt.legend()\n",
    "plt.savefig('dev-acc-vs-word-dropout')\n",
    "plt.show()\n",
    "plt.clf()"
   ]
  },
  {
   "cell_type": "code",
   "execution_count": null,
   "metadata": {},
   "outputs": [],
   "source": []
  },
  {
   "cell_type": "markdown",
   "metadata": {},
   "source": [
    "# Predict Answers"
   ]
  },
  {
   "cell_type": "code",
   "execution_count": 39,
   "metadata": {},
   "outputs": [],
   "source": [
    "aug_best_idx = val_tracker['acc'].index(max(val_tracker['acc']))"
   ]
  },
  {
   "cell_type": "code",
   "execution_count": 40,
   "metadata": {},
   "outputs": [
    {
     "data": {
      "text/plain": [
       "0.5859375"
      ]
     },
     "execution_count": 40,
     "metadata": {},
     "output_type": "execute_result"
    }
   ],
   "source": [
    "val_tracker['acc'][aug_best_idx]"
   ]
  },
  {
   "cell_type": "code",
   "execution_count": 41,
   "metadata": {},
   "outputs": [
    {
     "data": {
      "text/plain": [
       "0.5817569637652358"
      ]
     },
     "execution_count": 41,
     "metadata": {},
     "output_type": "execute_result"
    }
   ],
   "source": [
    "tracker['acc'][aug_best_idx]"
   ]
  },
  {
   "cell_type": "code",
   "execution_count": 42,
   "metadata": {},
   "outputs": [],
   "source": [
    "base_val_tracker = pickle.load(open('bin/gru-non-aug/val-tracker', 'rb'))\n",
    "base_train_tracker = pickle.load(open('bin/gru-non-aug/train-tracker', 'rb'))"
   ]
  },
  {
   "cell_type": "code",
   "execution_count": 43,
   "metadata": {},
   "outputs": [],
   "source": [
    "non_aug_best_idx = base_val_tracker['acc'].index(max(base_val_tracker['acc']))"
   ]
  },
  {
   "cell_type": "code",
   "execution_count": 44,
   "metadata": {},
   "outputs": [
    {
     "data": {
      "text/plain": [
       "0.56982421875"
      ]
     },
     "execution_count": 44,
     "metadata": {},
     "output_type": "execute_result"
    }
   ],
   "source": [
    "base_val_tracker['acc'][non_aug_best_idx]"
   ]
  },
  {
   "cell_type": "code",
   "execution_count": 45,
   "metadata": {},
   "outputs": [
    {
     "data": {
      "text/plain": [
       "0.8926478794642857"
      ]
     },
     "execution_count": 45,
     "metadata": {},
     "output_type": "execute_result"
    }
   ],
   "source": [
    "base_train_tracker['acc'][non_aug_best_idx]"
   ]
  },
  {
   "cell_type": "markdown",
   "metadata": {},
   "source": [
    "# Graph Results"
   ]
  },
  {
   "cell_type": "code",
   "execution_count": 134,
   "metadata": {},
   "outputs": [
    {
     "data": {
      "image/png": "[encoded data removed]",
      "text/plain": [
       "<Figure size 432x288 with 1 Axes>"
      ]
     },
     "metadata": {},
     "output_type": "display_data"
    }
   ],
   "source": [
    "info = 'biGRU; randomly augmented dataset;\\nseq_len_trunc=40; lr=1e-3; optim=adam\\nnum q\\'s: 973146; word dropout=0.5'\n",
    "train_val_plot(tracker, val_tracker, info, mode='acc')"
   ]
  },
  {
   "cell_type": "code",
   "execution_count": 135,
   "metadata": {},
   "outputs": [
    {
     "data": {
      "image/png": "[encoded data removed]",
      "text/plain": [
       "<Figure size 432x288 with 1 Axes>"
      ]
     },
     "metadata": {},
     "output_type": "display_data"
    }
   ],
   "source": [
    "info = 'biGRU; randomly augmented dataset;\\nseq_len_trunc=40; lr=1e-3; optim=adam\\nnum q\\'s: 973146; word dropout=0.5'\n",
    "train_val_plot(tracker, val_tracker, info, mode='loss')"
   ]
  },
  {
   "cell_type": "code",
   "execution_count": 136,
   "metadata": {},
   "outputs": [],
   "source": [
    "import pickle"
   ]
  },
  {
   "cell_type": "code",
   "execution_count": 137,
   "metadata": {},
   "outputs": [],
   "source": [
    "pickle.dump(tracker, open('train_tracker', 'wb'))"
   ]
  },
  {
   "cell_type": "code",
   "execution_count": 138,
   "metadata": {},
   "outputs": [],
   "source": [
    "pickle.dump(val_tracker, open('val_tracker', 'wb'))"
   ]
  },
  {
   "cell_type": "code",
   "execution_count": 139,
   "metadata": {},
   "outputs": [
    {
     "name": "stderr",
     "output_type": "stream",
     "text": [
      "/usr/local/lib/python3.6/site-packages/torch/serialization.py:241: UserWarning: Couldn't retrieve source code for container of type QuestionAnswerer. It won't be checked for correctness upon loading.\n",
      "  \"type \" + obj.__name__ + \". It won't be checked \"\n"
     ]
    }
   ],
   "source": [
    "torch.save(model, open('model', 'wb'))"
   ]
  },
  {
   "cell_type": "code",
   "execution_count": null,
   "metadata": {},
   "outputs": [],
   "source": []
  }
 ],
 "metadata": {
  "kernelspec": {
   "display_name": "Python 3",
   "language": "python",
   "name": "python3"
  },
  "language_info": {
   "codemirror_mode": {
    "name": "ipython",
    "version": 3
   },
   "file_extension": ".py",
   "mimetype": "text/x-python",
   "name": "python",
   "nbconvert_exporter": "python",
   "pygments_lexer": "ipython3",
   "version": "3.6.5"
  }
 },
 "nbformat": 4,
 "nbformat_minor": 2
}
